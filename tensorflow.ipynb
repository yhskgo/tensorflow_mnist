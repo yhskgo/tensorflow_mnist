{
 "cells": [
  {
   "cell_type": "code",
   "execution_count": 1,
   "metadata": {},
   "outputs": [
    {
     "name": "stderr",
     "output_type": "stream",
     "text": [
      "d:\\dev\\python\\python36\\lib\\site-packages\\tensorflow\\python\\framework\\dtypes.py:523: FutureWarning: Passing (type, 1) or '1type' as a synonym of type is deprecated; in a future version of numpy, it will be understood as (type, (1,)) / '(1,)type'.\n",
      "  _np_qint8 = np.dtype([(\"qint8\", np.int8, 1)])\n",
      "d:\\dev\\python\\python36\\lib\\site-packages\\tensorflow\\python\\framework\\dtypes.py:524: FutureWarning: Passing (type, 1) or '1type' as a synonym of type is deprecated; in a future version of numpy, it will be understood as (type, (1,)) / '(1,)type'.\n",
      "  _np_quint8 = np.dtype([(\"quint8\", np.uint8, 1)])\n",
      "d:\\dev\\python\\python36\\lib\\site-packages\\tensorflow\\python\\framework\\dtypes.py:525: FutureWarning: Passing (type, 1) or '1type' as a synonym of type is deprecated; in a future version of numpy, it will be understood as (type, (1,)) / '(1,)type'.\n",
      "  _np_qint16 = np.dtype([(\"qint16\", np.int16, 1)])\n",
      "d:\\dev\\python\\python36\\lib\\site-packages\\tensorflow\\python\\framework\\dtypes.py:526: FutureWarning: Passing (type, 1) or '1type' as a synonym of type is deprecated; in a future version of numpy, it will be understood as (type, (1,)) / '(1,)type'.\n",
      "  _np_quint16 = np.dtype([(\"quint16\", np.uint16, 1)])\n",
      "d:\\dev\\python\\python36\\lib\\site-packages\\tensorflow\\python\\framework\\dtypes.py:527: FutureWarning: Passing (type, 1) or '1type' as a synonym of type is deprecated; in a future version of numpy, it will be understood as (type, (1,)) / '(1,)type'.\n",
      "  _np_qint32 = np.dtype([(\"qint32\", np.int32, 1)])\n",
      "d:\\dev\\python\\python36\\lib\\site-packages\\tensorflow\\python\\framework\\dtypes.py:532: FutureWarning: Passing (type, 1) or '1type' as a synonym of type is deprecated; in a future version of numpy, it will be understood as (type, (1,)) / '(1,)type'.\n",
      "  np_resource = np.dtype([(\"resource\", np.ubyte, 1)])\n"
     ]
    }
   ],
   "source": [
    "import tensorflow as tf"
   ]
  },
  {
   "cell_type": "code",
   "execution_count": 2,
   "metadata": {},
   "outputs": [],
   "source": [
    "from tensorflow.examples.tutorials.mnist import input_data"
   ]
  },
  {
   "cell_type": "code",
   "execution_count": 3,
   "metadata": {},
   "outputs": [
    {
     "name": "stdout",
     "output_type": "stream",
     "text": [
      "1.10.0\n"
     ]
    }
   ],
   "source": [
    "print(tf.__version__)"
   ]
  },
  {
   "cell_type": "code",
   "execution_count": 4,
   "metadata": {},
   "outputs": [
    {
     "name": "stdout",
     "output_type": "stream",
     "text": [
      "WARNING:tensorflow:From <ipython-input-4-a184fceb9859>:1: read_data_sets (from tensorflow.contrib.learn.python.learn.datasets.mnist) is deprecated and will be removed in a future version.\n",
      "Instructions for updating:\n",
      "Please use alternatives such as official/mnist/dataset.py from tensorflow/models.\n",
      "WARNING:tensorflow:From d:\\dev\\python\\python36\\lib\\site-packages\\tensorflow\\contrib\\learn\\python\\learn\\datasets\\mnist.py:260: maybe_download (from tensorflow.contrib.learn.python.learn.datasets.base) is deprecated and will be removed in a future version.\n",
      "Instructions for updating:\n",
      "Please write your own downloading logic.\n",
      "WARNING:tensorflow:From d:\\dev\\python\\python36\\lib\\site-packages\\tensorflow\\contrib\\learn\\python\\learn\\datasets\\mnist.py:262: extract_images (from tensorflow.contrib.learn.python.learn.datasets.mnist) is deprecated and will be removed in a future version.\n",
      "Instructions for updating:\n",
      "Please use tf.data to implement this functionality.\n",
      "Extracting MNIST/train-images-idx3-ubyte.gz\n",
      "WARNING:tensorflow:From d:\\dev\\python\\python36\\lib\\site-packages\\tensorflow\\contrib\\learn\\python\\learn\\datasets\\mnist.py:267: extract_labels (from tensorflow.contrib.learn.python.learn.datasets.mnist) is deprecated and will be removed in a future version.\n",
      "Instructions for updating:\n",
      "Please use tf.data to implement this functionality.\n",
      "Extracting MNIST/train-labels-idx1-ubyte.gz\n",
      "WARNING:tensorflow:From d:\\dev\\python\\python36\\lib\\site-packages\\tensorflow\\contrib\\learn\\python\\learn\\datasets\\mnist.py:110: dense_to_one_hot (from tensorflow.contrib.learn.python.learn.datasets.mnist) is deprecated and will be removed in a future version.\n",
      "Instructions for updating:\n",
      "Please use tf.one_hot on tensors.\n",
      "Extracting MNIST/t10k-images-idx3-ubyte.gz\n",
      "Extracting MNIST/t10k-labels-idx1-ubyte.gz\n",
      "WARNING:tensorflow:From d:\\dev\\python\\python36\\lib\\site-packages\\tensorflow\\contrib\\learn\\python\\learn\\datasets\\mnist.py:290: DataSet.__init__ (from tensorflow.contrib.learn.python.learn.datasets.mnist) is deprecated and will be removed in a future version.\n",
      "Instructions for updating:\n",
      "Please use alternatives such as official/mnist/dataset.py from tensorflow/models.\n"
     ]
    }
   ],
   "source": [
    "data=input_data.read_data_sets('MNIST/', one_hot=True)"
   ]
  },
  {
   "cell_type": "code",
   "execution_count": 5,
   "metadata": {},
   "outputs": [
    {
     "data": {
      "text/plain": [
       "['images',\n",
       " 't10k-images-idx3-ubyte.gz',\n",
       " 't10k-labels-idx1-ubyte.gz',\n",
       " 'train-images-idx3-ubyte.gz',\n",
       " 'train-labels-idx1-ubyte.gz']"
      ]
     },
     "execution_count": 5,
     "metadata": {},
     "output_type": "execute_result"
    }
   ],
   "source": [
    "import os\n",
    "os.listdir('MNIST/')"
   ]
  },
  {
   "cell_type": "code",
   "execution_count": 6,
   "metadata": {},
   "outputs": [
    {
     "name": "stdout",
     "output_type": "stream",
     "text": [
      "Image Inventory\n",
      "------------\n",
      "Training: 55000\n",
      "Testing:  10000\n",
      "------------\n"
     ]
    }
   ],
   "source": [
    "print('Image Inventory')\n",
    "print('------------')\n",
    "print('Training: {}'.format(len(data.train.labels)))\n",
    "print('Testing:  {}'.format(len(data.test.labels)))\n",
    "print('------------')"
   ]
  },
  {
   "cell_type": "code",
   "execution_count": 7,
   "metadata": {},
   "outputs": [],
   "source": [
    "import numpy as np\n",
    "import matplotlib.pyplot as plt\n",
    "%matplotlib inline"
   ]
  },
  {
   "cell_type": "code",
   "execution_count": 8,
   "metadata": {},
   "outputs": [
    {
     "name": "stdout",
     "output_type": "stream",
     "text": [
      "-----------------\n",
      "[0. 0. 0. 0. 0. 0. 0. 1. 0. 0.]\n"
     ]
    },
    {
     "data": {
      "image/png": "[encoded data removed]",
      "text/plain": [
       "<Figure size 432x288 with 1 Axes>"
      ]
     },
     "metadata": {
      "needs_background": "light"
     },
     "output_type": "display_data"
    },
    {
     "name": "stdout",
     "output_type": "stream",
     "text": [
      "-----------------\n",
      "[0. 0. 0. 1. 0. 0. 0. 0. 0. 0.]\n"
     ]
    },
    {
     "data": {
      "image/png": "[encoded data removed]",
      "text/plain": [
       "<Figure size 432x288 with 1 Axes>"
      ]
     },
     "metadata": {
      "needs_background": "light"
     },
     "output_type": "display_data"
    }
   ],
   "source": [
    "for i in range(2):\n",
    "    image = data.train.images[i]\n",
    "    image = np.array(image, dtype='float')\n",
    "    label = data.train.labels[i]\n",
    "    pixels = image.reshape((28,28))\n",
    "    plt.imshow(pixels, cmap='gray')\n",
    "    print('-----------------')\n",
    "    print(label)\n",
    "    plt.show()"
   ]
  },
  {
   "cell_type": "code",
   "execution_count": 9,
   "metadata": {},
   "outputs": [],
   "source": [
    "if not os.path.exists('MNIST/images'):\n",
    "    os.makedirs('MNIST/images/')\n",
    "os.chdir('MNIST/images/')"
   ]
  },
  {
   "cell_type": "code",
   "execution_count": 10,
   "metadata": {},
   "outputs": [],
   "source": [
    "from matplotlib import image\n",
    "for i in range(1, 10):\n",
    "    png = data.train.images[i]\n",
    "    png = np.array(png, dtype='float')\n",
    "    pixels = png.reshape((28,28))\n",
    "    image.imsave('iamge_no_{}.png'.format(i), pixels, cmap='gray')"
   ]
  },
  {
   "cell_type": "code",
   "execution_count": 11,
   "metadata": {},
   "outputs": [
    {
     "name": "stdout",
     "output_type": "stream",
     "text": [
      "['iamge_no_1.png', 'iamge_no_2.png', 'iamge_no_3.png', 'iamge_no_4.png', 'iamge_no_5.png', 'iamge_no_6.png', 'iamge_no_7.png', 'iamge_no_8.png', 'iamge_no_9.png']\n"
     ]
    }
   ],
   "source": [
    "print(os.listdir())"
   ]
  },
  {
   "cell_type": "code",
   "execution_count": 12,
   "metadata": {},
   "outputs": [],
   "source": [
    "from Augmentor import Pipeline"
   ]
  },
  {
   "cell_type": "code",
   "execution_count": 13,
   "metadata": {},
   "outputs": [
    {
     "name": "stdout",
     "output_type": "stream",
     "text": [
      "Initialised with 9 image(s) found.\n",
      "Output directory set to /workspace/PyCharmProjects/MNIST/images\\output."
     ]
    }
   ],
   "source": [
    "augmentor = Pipeline('/workspace/PyCharmProjects/MNIST/images')"
   ]
  },
  {
   "cell_type": "code",
   "execution_count": 14,
   "metadata": {},
   "outputs": [],
   "source": [
    "augmentor.rotate(probability=0.9,max_left_rotation=25,max_right_rotation=25)"
   ]
  },
  {
   "cell_type": "code",
   "execution_count": 15,
   "metadata": {},
   "outputs": [
    {
     "name": "stderr",
     "output_type": "stream",
     "text": [
      "Processing <PIL.Image.Image image mode=RGBA size=28x28 at 0x254A4A46748>: 100%|█| 10/10 [00:00<00:00, 294.04 Samples/s]\n",
      "Processing <PIL.Image.Image image mode=RGBA size=28x28 at 0x254A4A53978>: 100%|█| 10/10 [00:00<00:00, 256.44 Samples/s]\n"
     ]
    }
   ],
   "source": [
    "for i in range(1, 3):\n",
    "    augmentor.sample(10)"
   ]
  },
  {
   "cell_type": "code",
   "execution_count": 16,
   "metadata": {},
   "outputs": [],
   "source": [
    "xtrain = data.train.images\n",
    "ytrain = np.asarray(data.train.labels)\n",
    "xtest = data.test.images\n",
    "ytest = np.asarray(data.test.labels)"
   ]
  },
  {
   "cell_type": "code",
   "execution_count": 17,
   "metadata": {},
   "outputs": [],
   "source": [
    "xtrain = xtrain.reshape(xtrain.shape[0],28,28,1)\n",
    "xtest = xtest.reshape(xtest.shape[0],28,28,1)\n",
    "ytest = ytest.reshape(ytest.shape[0],10)\n",
    "ytrain = ytrain.reshape(ytrain.shape[0],10)"
   ]
  },
  {
   "cell_type": "code",
   "execution_count": 18,
   "metadata": {},
   "outputs": [
    {
     "name": "stdout",
     "output_type": "stream",
     "text": [
      "(55000, 28, 28, 1)\n",
      "(55000, 10)\n",
      "(10000, 28, 28, 1)\n",
      "(10000, 10)\n"
     ]
    }
   ],
   "source": [
    "print(xtrain.shape)\n",
    "print(ytrain.shape)\n",
    "print(xtest.shape)\n",
    "print(ytest.shape)"
   ]
  },
  {
   "cell_type": "code",
   "execution_count": 19,
   "metadata": {},
   "outputs": [
    {
     "name": "stderr",
     "output_type": "stream",
     "text": [
      "Using TensorFlow backend.\n"
     ]
    }
   ],
   "source": [
    "import keras"
   ]
  },
  {
   "cell_type": "code",
   "execution_count": 19,
   "metadata": {},
   "outputs": [
    {
     "name": "stderr",
     "output_type": "stream",
     "text": [
      "Using TensorFlow backend.\n"
     ]
    }
   ],
   "source": [
    "import keras.backend as K\n",
    "from keras.models import Sequential\n",
    "from keras.layers import Dense, Flatten, Conv2D\n",
    "\n",
    "K.set_image_dim_ordering('tf')\n",
    "\n",
    "model = Sequential()\n",
    "\n",
    "model.add(Conv2D(32, kernel_size=(5,5), activation='relu', input_shape=(28,28,1)))\n",
    "model.add(Flatten())\n",
    "model.add(Dense(128, activation='relu'))\n",
    "model.add(Dense(10, activation='sigmoid'))"
   ]
  },
  {
   "cell_type": "code",
   "execution_count": 20,
   "metadata": {},
   "outputs": [],
   "source": [
    "model.compile(optimizer='adam', loss='categorical_crossentropy',\n",
    "             metrics=['accuracy'])"
   ]
  },
  {
   "cell_type": "code",
   "execution_count": 21,
   "metadata": {},
   "outputs": [
    {
     "name": "stdout",
     "output_type": "stream",
     "text": [
      "Train on 55000 samples, validate on 10000 samples\n",
      "Epoch 1/5\n",
      "55000/55000 [==============================] - ETA: 7:25 - loss: 2.3106 - acc: 0.099 - ETA: 1:50 - loss: 2.0147 - acc: 0.478 - ETA: 1:02 - loss: 1.6518 - acc: 0.609 - ETA: 42s - loss: 1.3539 - acc: 0.671 - ETA: 32s - loss: 1.1456 - acc: 0.71 - ETA: 25s - loss: 1.0044 - acc: 0.74 - ETA: 21s - loss: 0.9024 - acc: 0.77 - ETA: 18s - loss: 0.8275 - acc: 0.78 - ETA: 15s - loss: 0.7717 - acc: 0.79 - ETA: 13s - loss: 0.7324 - acc: 0.80 - ETA: 11s - loss: 0.6898 - acc: 0.81 - ETA: 10s - loss: 0.6510 - acc: 0.82 - ETA: 9s - loss: 0.6137 - acc: 0.8375 - ETA: 8s - loss: 0.5873 - acc: 0.843 - ETA: 7s - loss: 0.5620 - acc: 0.850 - ETA: 6s - loss: 0.5405 - acc: 0.855 - ETA: 6s - loss: 0.5204 - acc: 0.860 - ETA: 5s - loss: 0.5032 - acc: 0.864 - ETA: 5s - loss: 0.4878 - acc: 0.868 - ETA: 4s - loss: 0.4734 - acc: 0.871 - ETA: 4s - loss: 0.4610 - acc: 0.874 - ETA: 3s - loss: 0.4477 - acc: 0.878 - ETA: 3s - loss: 0.4340 - acc: 0.881 - ETA: 3s - loss: 0.4221 - acc: 0.884 - ETA: 2s - loss: 0.4099 - acc: 0.888 - ETA: 2s - loss: 0.4005 - acc: 0.890 - ETA: 2s - loss: 0.3914 - acc: 0.892 - ETA: 1s - loss: 0.3834 - acc: 0.894 - ETA: 1s - loss: 0.3754 - acc: 0.897 - ETA: 1s - loss: 0.3677 - acc: 0.899 - ETA: 1s - loss: 0.3606 - acc: 0.901 - ETA: 0s - loss: 0.3533 - acc: 0.903 - ETA: 0s - loss: 0.3467 - acc: 0.905 - ETA: 0s - loss: 0.3398 - acc: 0.907 - ETA: 0s - loss: 0.3335 - acc: 0.908 - ETA: 0s - loss: 0.3273 - acc: 0.910 - 7s 124us/step - loss: 0.3245 - acc: 0.9112 - val_loss: 0.0993 - val_acc: 0.9726\n",
      "Epoch 2/5\n",
      "55000/55000 [==============================] - ETA: 2s - loss: 0.0815 - acc: 0.986 - ETA: 2s - loss: 0.1103 - acc: 0.972 - ETA: 2s - loss: 0.1101 - acc: 0.970 - ETA: 2s - loss: 0.1058 - acc: 0.970 - ETA: 2s - loss: 0.1045 - acc: 0.971 - ETA: 2s - loss: 0.1034 - acc: 0.972 - ETA: 1s - loss: 0.1031 - acc: 0.972 - ETA: 1s - loss: 0.1027 - acc: 0.971 - ETA: 1s - loss: 0.1013 - acc: 0.971 - ETA: 1s - loss: 0.1005 - acc: 0.971 - ETA: 1s - loss: 0.1005 - acc: 0.972 - ETA: 1s - loss: 0.0986 - acc: 0.972 - ETA: 1s - loss: 0.0981 - acc: 0.972 - ETA: 1s - loss: 0.0974 - acc: 0.972 - ETA: 1s - loss: 0.0978 - acc: 0.972 - ETA: 1s - loss: 0.0967 - acc: 0.972 - ETA: 1s - loss: 0.0968 - acc: 0.972 - ETA: 1s - loss: 0.0955 - acc: 0.973 - ETA: 1s - loss: 0.0958 - acc: 0.972 - ETA: 1s - loss: 0.0950 - acc: 0.973 - ETA: 1s - loss: 0.0935 - acc: 0.973 - ETA: 0s - loss: 0.0923 - acc: 0.973 - ETA: 0s - loss: 0.0919 - acc: 0.974 - ETA: 0s - loss: 0.0911 - acc: 0.974 - ETA: 0s - loss: 0.0910 - acc: 0.974 - ETA: 0s - loss: 0.0922 - acc: 0.974 - ETA: 0s - loss: 0.0916 - acc: 0.974 - ETA: 0s - loss: 0.0906 - acc: 0.974 - ETA: 0s - loss: 0.0893 - acc: 0.974 - ETA: 0s - loss: 0.0889 - acc: 0.974 - ETA: 0s - loss: 0.0890 - acc: 0.975 - ETA: 0s - loss: 0.0885 - acc: 0.975 - ETA: 0s - loss: 0.0881 - acc: 0.975 - ETA: 0s - loss: 0.0875 - acc: 0.975 - ETA: 0s - loss: 0.0868 - acc: 0.975 - ETA: 0s - loss: 0.0862 - acc: 0.975 - 3s 47us/step - loss: 0.0860 - acc: 0.9756 - val_loss: 0.0635 - val_acc: 0.9808\n",
      "Epoch 3/5\n",
      "55000/55000 [==============================] - ETA: 2s - loss: 0.0528 - acc: 0.982 - ETA: 2s - loss: 0.0554 - acc: 0.983 - ETA: 2s - loss: 0.0481 - acc: 0.985 - ETA: 2s - loss: 0.0507 - acc: 0.985 - ETA: 2s - loss: 0.0513 - acc: 0.986 - ETA: 2s - loss: 0.0523 - acc: 0.985 - ETA: 2s - loss: 0.0550 - acc: 0.984 - ETA: 1s - loss: 0.0559 - acc: 0.984 - ETA: 1s - loss: 0.0569 - acc: 0.983 - ETA: 1s - loss: 0.0553 - acc: 0.984 - ETA: 1s - loss: 0.0551 - acc: 0.984 - ETA: 1s - loss: 0.0547 - acc: 0.984 - ETA: 1s - loss: 0.0542 - acc: 0.984 - ETA: 1s - loss: 0.0545 - acc: 0.983 - ETA: 1s - loss: 0.0555 - acc: 0.983 - ETA: 1s - loss: 0.0548 - acc: 0.983 - ETA: 1s - loss: 0.0546 - acc: 0.983 - ETA: 1s - loss: 0.0546 - acc: 0.984 - ETA: 1s - loss: 0.0552 - acc: 0.983 - ETA: 1s - loss: 0.0550 - acc: 0.983 - ETA: 1s - loss: 0.0558 - acc: 0.983 - ETA: 0s - loss: 0.0556 - acc: 0.983 - ETA: 0s - loss: 0.0557 - acc: 0.983 - ETA: 0s - loss: 0.0548 - acc: 0.983 - ETA: 0s - loss: 0.0549 - acc: 0.983 - ETA: 0s - loss: 0.0550 - acc: 0.983 - ETA: 0s - loss: 0.0552 - acc: 0.983 - ETA: 0s - loss: 0.0549 - acc: 0.983 - ETA: 0s - loss: 0.0550 - acc: 0.983 - ETA: 0s - loss: 0.0554 - acc: 0.983 - ETA: 0s - loss: 0.0550 - acc: 0.983 - ETA: 0s - loss: 0.0548 - acc: 0.983 - ETA: 0s - loss: 0.0549 - acc: 0.983 - ETA: 0s - loss: 0.0548 - acc: 0.983 - ETA: 0s - loss: 0.0546 - acc: 0.983 - ETA: 0s - loss: 0.0544 - acc: 0.983 - 3s 47us/step - loss: 0.0541 - acc: 0.9839 - val_loss: 0.0538 - val_acc: 0.9825\n",
      "Epoch 4/5\n",
      "55000/55000 [==============================] - ETA: 2s - loss: 0.0315 - acc: 0.988 - ETA: 2s - loss: 0.0393 - acc: 0.986 - ETA: 2s - loss: 0.0412 - acc: 0.986 - ETA: 2s - loss: 0.0411 - acc: 0.987 - ETA: 2s - loss: 0.0418 - acc: 0.987 - ETA: 2s - loss: 0.0420 - acc: 0.987 - ETA: 1s - loss: 0.0432 - acc: 0.987 - ETA: 1s - loss: 0.0418 - acc: 0.987 - ETA: 1s - loss: 0.0411 - acc: 0.988 - ETA: 1s - loss: 0.0425 - acc: 0.987 - ETA: 1s - loss: 0.0421 - acc: 0.987 - ETA: 1s - loss: 0.0414 - acc: 0.987 - ETA: 1s - loss: 0.0410 - acc: 0.988 - ETA: 1s - loss: 0.0404 - acc: 0.988 - ETA: 1s - loss: 0.0396 - acc: 0.988 - ETA: 1s - loss: 0.0397 - acc: 0.988 - ETA: 1s - loss: 0.0403 - acc: 0.988 - ETA: 1s - loss: 0.0404 - acc: 0.988 - ETA: 1s - loss: 0.0399 - acc: 0.988 - ETA: 1s - loss: 0.0395 - acc: 0.988 - ETA: 1s - loss: 0.0392 - acc: 0.988 - ETA: 0s - loss: 0.0399 - acc: 0.988 - ETA: 0s - loss: 0.0399 - acc: 0.988 - ETA: 0s - loss: 0.0395 - acc: 0.988 - ETA: 0s - loss: 0.0395 - acc: 0.988 - ETA: 0s - loss: 0.0395 - acc: 0.988 - ETA: 0s - loss: 0.0397 - acc: 0.988 - ETA: 0s - loss: 0.0394 - acc: 0.988 - ETA: 0s - loss: 0.0396 - acc: 0.988 - ETA: 0s - loss: 0.0399 - acc: 0.988 - ETA: 0s - loss: 0.0399 - acc: 0.988 - ETA: 0s - loss: 0.0402 - acc: 0.988 - ETA: 0s - loss: 0.0402 - acc: 0.988 - ETA: 0s - loss: 0.0401 - acc: 0.988 - ETA: 0s - loss: 0.0403 - acc: 0.987 - ETA: 0s - loss: 0.0405 - acc: 0.987 - 3s 47us/step - loss: 0.0406 - acc: 0.9878 - val_loss: 0.0481 - val_acc: 0.9845\n",
      "Epoch 5/5\n",
      "55000/55000 [==============================] - ETA: 2s - loss: 0.0279 - acc: 0.992 - ETA: 2s - loss: 0.0317 - acc: 0.991 - ETA: 2s - loss: 0.0315 - acc: 0.991 - ETA: 2s - loss: 0.0329 - acc: 0.989 - ETA: 2s - loss: 0.0334 - acc: 0.989 - ETA: 2s - loss: 0.0329 - acc: 0.989 - ETA: 2s - loss: 0.0320 - acc: 0.989 - ETA: 1s - loss: 0.0331 - acc: 0.989 - ETA: 1s - loss: 0.0330 - acc: 0.989 - ETA: 1s - loss: 0.0331 - acc: 0.989 - ETA: 1s - loss: 0.0333 - acc: 0.989 - ETA: 1s - loss: 0.0332 - acc: 0.989 - ETA: 1s - loss: 0.0327 - acc: 0.989 - ETA: 1s - loss: 0.0334 - acc: 0.989 - ETA: 1s - loss: 0.0332 - acc: 0.989 - ETA: 1s - loss: 0.0331 - acc: 0.989 - ETA: 1s - loss: 0.0331 - acc: 0.989 - ETA: 1s - loss: 0.0328 - acc: 0.989 - ETA: 1s - loss: 0.0321 - acc: 0.990 - ETA: 1s - loss: 0.0318 - acc: 0.990 - ETA: 1s - loss: 0.0316 - acc: 0.990 - ETA: 0s - loss: 0.0314 - acc: 0.990 - ETA: 0s - loss: 0.0310 - acc: 0.990 - ETA: 0s - loss: 0.0309 - acc: 0.990 - ETA: 0s - loss: 0.0313 - acc: 0.990 - ETA: 0s - loss: 0.0312 - acc: 0.990 - ETA: 0s - loss: 0.0314 - acc: 0.990 - ETA: 0s - loss: 0.0315 - acc: 0.990 - ETA: 0s - loss: 0.0314 - acc: 0.990 - ETA: 0s - loss: 0.0316 - acc: 0.990 - ETA: 0s - loss: 0.0317 - acc: 0.990 - ETA: 0s - loss: 0.0318 - acc: 0.990 - ETA: 0s - loss: 0.0316 - acc: 0.990 - ETA: 0s - loss: 0.0317 - acc: 0.990 - ETA: 0s - loss: 0.0317 - acc: 0.990 - ETA: 0s - loss: 0.0318 - acc: 0.990 - 3s 47us/step - loss: 0.0319 - acc: 0.9901 - val_loss: 0.0445 - val_acc: 0.9860\n"
     ]
    },
    {
     "data": {
      "text/plain": [
       "<keras.callbacks.History at 0x254a4949eb8>"
      ]
     },
     "execution_count": 21,
     "metadata": {},
     "output_type": "execute_result"
    }
   ],
   "source": [
    "model.fit(xtrain, ytrain, batch_size=512,\n",
    "         epochs=5,\n",
    "         validation_data=(xtest, ytest))"
   ]
  },
  {
   "cell_type": "code",
   "execution_count": 25,
   "metadata": {},
   "outputs": [
    {
     "name": "stdout",
     "output_type": "stream",
     "text": [
      "10000/10000 [==============================] - ETA:  - ETA:  - ETA:  - ETA:  - ETA:  - ETA:  - ETA:  - ETA:  - ETA:  - ETA:  - ETA:  - ETA:  - ETA:  - ETA:  - ETA:  - ETA:  - 1s 80us/step\n"
     ]
    }
   ],
   "source": [
    "stats = model.evaluate(xtest, ytest)\n"
   ]
  },
  {
   "cell_type": "code",
   "execution_count": 26,
   "metadata": {},
   "outputs": [
    {
     "name": "stdout",
     "output_type": "stream",
     "text": [
      "The accuracy rate is 98.6%\n",
      "The loss rate is 4.0%\n"
     ]
    }
   ],
   "source": [
    "print('The accuracy rate is {}%'.format(round(stats[1],3)*100))\n",
    "print('The loss rate is {}%'.format(round(stats[0],2)*100))"
   ]
  },
  {
   "cell_type": "code",
   "execution_count": 27,
   "metadata": {},
   "outputs": [
    {
     "name": "stdout",
     "output_type": "stream",
     "text": [
      "_________________________________________________________________\n",
      "Layer (type)                 Output Shape              Param #   \n",
      "=================================================================\n",
      "conv2d_1 (Conv2D)            (None, 24, 24, 32)        832       \n",
      "_________________________________________________________________\n",
      "flatten_1 (Flatten)          (None, 18432)             0         \n",
      "_________________________________________________________________\n",
      "dense_1 (Dense)              (None, 128)               2359424   \n",
      "_________________________________________________________________\n",
      "dense_2 (Dense)              (None, 10)                1290      \n",
      "=================================================================\n",
      "Total params: 2,361,546\n",
      "Trainable params: 2,361,546\n",
      "Non-trainable params: 0\n",
      "_________________________________________________________________\n"
     ]
    }
   ],
   "source": [
    "model.summary()"
   ]
  },
  {
   "cell_type": "code",
   "execution_count": null,
   "metadata": {},
   "outputs": [],
   "source": []
  }
 ],
 "metadata": {
  "kernelspec": {
   "display_name": "Python 3",
   "language": "python",
   "name": "python3"
  },
  "language_info": {
   "codemirror_mode": {
    "name": "ipython",
    "version": 3
   },
   "file_extension": ".py",
   "mimetype": "text/x-python",
   "name": "python",
   "nbconvert_exporter": "python",
   "pygments_lexer": "ipython3",
   "version": "3.6.2"
  }
 },
 "nbformat": 4,
 "nbformat_minor": 2
}
